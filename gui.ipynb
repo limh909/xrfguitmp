{
 "cells": [
  {
   "cell_type": "code",
   "execution_count": 8,
   "metadata": {},
   "outputs": [
    {
     "data": {
      "text/plain": [
       "'\\nfrom pyxrf.api import (make_hdf)\\nimport create_movie as cm\\nfrom PIL import Image\\nimport matplotlib.pyplot as plt\\nimport numpy as np\\nimport re\\nimport shutil\\nfrom MplCanvas import MplCanvas, brush_to_color_tuple\\nfrom OutputWrapper import OutputWrapper\\nfrom mpl_toolkits.axes_grid1 import make_axes_locatable\\n#import img_class\\nimport align_class as ac\\nimport logging\\n#from popup import Popup\\nlogger = logging.getLogger()\\nimport funcs as func\\nimport unicodedata\\n'"
      ]
     },
     "execution_count": 8,
     "metadata": {},
     "output_type": "execute_result"
    }
   ],
   "source": [
    "import sys\n",
    "import os\n",
    "from pyxrf.model.command_tools import fit_pixel_data_and_save\n",
    "#from matplotlib.backends.backend_qt4agg import FigureCanvasQTAgg as FigureCanvas\n",
    "#from matplotlib.backends.backend_qt4agg import NavigationToolbar2QT as NavigationToolbar\n",
    "from PyQt4.QtCore import *\n",
    "from PyQt4.QtGui import *\n",
    "import matplotlib.pyplot as plt\n",
    "import numpy as np\n",
    "from MplCanvas import MplCanvas, brush_to_color_tuple\n",
    "import matplotlib.image as mpimg\n",
    "\"\"\"\n",
    "from pyxrf.api import (make_hdf)\n",
    "import create_movie as cm\n",
    "from PIL import Image\n",
    "import matplotlib.pyplot as plt\n",
    "import numpy as np\n",
    "import re\n",
    "import shutil\n",
    "from MplCanvas import MplCanvas, brush_to_color_tuple\n",
    "from OutputWrapper import OutputWrapper\n",
    "from mpl_toolkits.axes_grid1 import make_axes_locatable\n",
    "#import img_class\n",
    "import align_class as ac\n",
    "import logging\n",
    "#from popup import Popup\n",
    "logger = logging.getLogger()\n",
    "import funcs as func\n",
    "import unicodedata\n",
    "\"\"\""
   ]
  },
  {
   "cell_type": "code",
   "execution_count": 9,
   "metadata": {
    "collapsed": true
   },
   "outputs": [],
   "source": [
    "class Window(QMainWindow):\n",
    "    #Constructor\n",
    "    def __init__(self):\n",
    "        super(QMainWindow, self).__init__()\n",
    "        self.setWindowTitle(\"XRF-GUI\")\n",
    "        self.create_layout()\n",
    "        \n",
    "    def create_layout(self):\n",
    "        \n",
    "        #Center Widget/Layout for QMainWindow\n",
    "        self.centerWidget = QWidget()\n",
    "        self.centerLayout = QVBoxLayout()\n",
    "        self.centerWidget.setLayout(self.centerLayout)\n",
    "    \n",
    "        #Add Split to Main Layout\n",
    "        self.split = QSplitter()\n",
    "        self.centerLayout.addWidget(self.split)\n",
    "        \n",
    "    #Left Side of Splitter\n",
    "        self.splitLeftWidget = QWidget()\n",
    "        self.splitLeftLayout = QVBoxLayout()\n",
    "        self.splitLeftWidget.setLayout(self.splitLeftLayout)\n",
    "        \n",
    "        #Top Widget of Layout Left of Splitter\n",
    "        self.tab = QTabWidget()\n",
    "        self.splitLeftLayout.addWidget(self.tab)\n",
    "        \n",
    "        \n",
    "        #Tab1\n",
    "        self.tab1Widget = QWidget()\n",
    "        self.tab1Layout = QGridLayout()\n",
    "        self.tab1Widget.setLayout(self.tab1Layout)\n",
    "        self.tab1Btn1 = QPushButton(\"Choose Working Directory\")\n",
    "        self.tab1TextBox = QLineEdit()\n",
    "        self.tab1Btn2 = QPushButton(\"Make h5 File\")\n",
    "        self.tab1TextBox2 = QLineEdit()\n",
    "        self.tab1Btn3 = QPushButton(\"Choose from File\")\n",
    "        self.tab1Btn4 = QPushButton(\"Select Json File\")\n",
    "        self.tab1TextBox3 = QLineEdit()\n",
    "        self.tab1Btn5 = QPushButton(\"Fit Data and Save\")\n",
    "        \n",
    "        self.tab1Layout.addWidget(self.tab1Btn1, 0, 0)\n",
    "        self.tab1Layout.addWidget(self.tab1TextBox, 0, 1, 1, 1)\n",
    "        \n",
    "        self.tab1Layout.addWidget(self.tab1Btn2, 1, 0)\n",
    "        self.tab1Layout.addWidget(self.tab1TextBox2, 1, 1, 1, 1)\n",
    "        self.tab1Layout.addWidget(self.tab1Btn3, 1, 2)\n",
    "        \n",
    "        self.tab1Layout.addWidget(self.tab1Btn4, 2, 0)\n",
    "        self.tab1Layout.addWidget(self.tab1TextBox3, 2, 1)\n",
    "        self.tab1Layout.addWidget(self.tab1Btn5, 2, 2)\n",
    "        \n",
    "        self.tab.addTab(self.tab1Widget, \"Tab 1\")\n",
    "        \n",
    "        #Second Widget of Layout Left of Splitter\n",
    "        self.textBox = QTextEdit()\n",
    "        self.textBox.setFixedWidth(500)\n",
    "        self.textBox.setFixedHeight(100)\n",
    "        self.splitLeftLayout.addWidget(self.textBox)\n",
    "    \n",
    "    \n",
    "        #Right Side of Splitter\n",
    "        self.dockWidget = QWidget()\n",
    "        self.dockLayout = QVBoxLayout()\n",
    "        self.dockWidget.setLayout(self.dockLayout)\n",
    "        self.movePlot = QDockWidget()\n",
    "        self.movePlot.setWidget(self.dockWidget)\n",
    "        \n",
    "        #Image 1\n",
    "        img = mpimg.imread('numpy.png')\n",
    "        self.canvas = MplCanvas()#width=50, height=50, dpi=50)\n",
    "        self.canvas.axes.imshow(img)\n",
    "        self.dockText = QLabel(\"testing testing testing\")\n",
    "        self.dockLayout.addWidget(self.canvas)\n",
    "        self.dockLayout.addWidget(self.dockText)\n",
    "        self.movePlot.setFeatures(QDockWidget.AllDockWidgetFeatures)\n",
    "        \n",
    "        self.dockWidget2 = QWidget()\n",
    "        self.dockLayout2 = QVBoxLayout()\n",
    "        self.dockWidget2.setLayout(self.dockLayout2)\n",
    "        self.movePlot2 = QDockWidget()\n",
    "        self.movePlot2.setWidget(self.dockWidget2)\n",
    "        \n",
    "        #Image 2\n",
    "        widg = QWidget()\n",
    "        test = np.zeros((30, 30))\n",
    "        image = QImage(test, test.shape[1], test.shape[0], QImage.Format_RGB888)\n",
    "        pix = QPixmap(image)\n",
    "        self.dockLayout2.addWidget(pix)\n",
    "        \n",
    "        self.canvas2 = MplCanvas()\n",
    "        img = mpimg.imread('numpy.png')\n",
    "        self.canvas2.axes.imshow(img)\n",
    "        \n",
    "        self.dockText2 = QLabel(\"super testing oh no\")\n",
    "        self.dockLayout2.addWidget(self.canvas2)\n",
    "        self.dockLayout2.addWidget(self.dockText2)\n",
    "        \n",
    "        \n",
    "        self.setDockOptions(self.AnimatedDocks | self.AllowNestedDocks)\n",
    "        #Add Layouts left and right of splitter to main layout\n",
    "        self.split.addWidget(self.splitLeftWidget)\n",
    "        #lets see what happens here\n",
    "        print('will things die?')\n",
    "        self.addDockWidget(Qt.RightDockWidgetArea, self.movePlot)\n",
    "        self.addDockWidget(Qt.RightDockWidgetArea, self.movePlot2)\n",
    "\n",
    "        #setting Central Widget\n",
    "        self.setCentralWidget(self.centerWidget)\n",
    "        \n",
    "        #git testing branch DELETE THIS\n",
    "        #more git testing"
   ]
  },
  {
   "cell_type": "code",
   "execution_count": 10,
   "metadata": {},
   "outputs": [
    {
     "name": "stderr",
     "output_type": "stream",
     "text": [
      "D:\\xrf_repo\\xrf-gui\\MplCanvas.py:21: MatplotlibDeprecationWarning: axes.hold is deprecated.\n",
      "    See the API Changes document (http://matplotlib.org/api/api_changes.html)\n",
      "    for more details.\n",
      "  self.axes.hold(False)\n"
     ]
    },
    {
     "ename": "TypeError",
     "evalue": "addWidget(self, QWidget, stretch: int = 0, alignment: Qt.Alignment = 0): argument 1 has unexpected type 'QPixmap'",
     "output_type": "error",
     "traceback": [
      "\u001b[1;31m---------------------------------------------------------------------------\u001b[0m",
      "\u001b[1;31mTypeError\u001b[0m                                 Traceback (most recent call last)",
      "\u001b[1;32m<ipython-input-10-f440272ec7a2>\u001b[0m in \u001b[0;36m<module>\u001b[1;34m()\u001b[0m\n\u001b[0;32m      7\u001b[0m \u001b[1;33m\u001b[0m\u001b[0m\n\u001b[0;32m      8\u001b[0m \u001b[1;32mif\u001b[0m \u001b[0m__name__\u001b[0m \u001b[1;33m==\u001b[0m \u001b[1;34m'__main__'\u001b[0m\u001b[1;33m:\u001b[0m\u001b[1;33m\u001b[0m\u001b[0m\n\u001b[1;32m----> 9\u001b[1;33m     \u001b[0mmain\u001b[0m\u001b[1;33m(\u001b[0m\u001b[1;33m)\u001b[0m\u001b[1;33m\u001b[0m\u001b[0m\n\u001b[0m",
      "\u001b[1;32m<ipython-input-10-f440272ec7a2>\u001b[0m in \u001b[0;36mmain\u001b[1;34m()\u001b[0m\n\u001b[0;32m      1\u001b[0m \u001b[1;32mdef\u001b[0m \u001b[0mmain\u001b[0m\u001b[1;33m(\u001b[0m\u001b[1;33m)\u001b[0m\u001b[1;33m:\u001b[0m\u001b[1;33m\u001b[0m\u001b[0m\n\u001b[0;32m      2\u001b[0m     \u001b[0mapp\u001b[0m \u001b[1;33m=\u001b[0m \u001b[0mQApplication\u001b[0m\u001b[1;33m(\u001b[0m\u001b[0msys\u001b[0m\u001b[1;33m.\u001b[0m\u001b[0margv\u001b[0m\u001b[1;33m)\u001b[0m\u001b[1;33m\u001b[0m\u001b[0m\n\u001b[1;32m----> 3\u001b[1;33m     \u001b[0mex\u001b[0m \u001b[1;33m=\u001b[0m \u001b[0mWindow\u001b[0m\u001b[1;33m(\u001b[0m\u001b[1;33m)\u001b[0m\u001b[1;33m\u001b[0m\u001b[0m\n\u001b[0m\u001b[0;32m      4\u001b[0m     \u001b[0mex\u001b[0m\u001b[1;33m.\u001b[0m\u001b[0mresize\u001b[0m\u001b[1;33m(\u001b[0m\u001b[1;36m1000\u001b[0m\u001b[1;33m,\u001b[0m \u001b[1;36m1000\u001b[0m\u001b[1;33m)\u001b[0m\u001b[1;33m\u001b[0m\u001b[0m\n\u001b[0;32m      5\u001b[0m     \u001b[0mex\u001b[0m\u001b[1;33m.\u001b[0m\u001b[0mshow\u001b[0m\u001b[1;33m(\u001b[0m\u001b[1;33m)\u001b[0m\u001b[1;33m\u001b[0m\u001b[0m\n",
      "\u001b[1;32m<ipython-input-9-f553826e7849>\u001b[0m in \u001b[0;36m__init__\u001b[1;34m(self)\u001b[0m\n\u001b[0;32m      4\u001b[0m         \u001b[0msuper\u001b[0m\u001b[1;33m(\u001b[0m\u001b[0mQMainWindow\u001b[0m\u001b[1;33m,\u001b[0m \u001b[0mself\u001b[0m\u001b[1;33m)\u001b[0m\u001b[1;33m.\u001b[0m\u001b[0m__init__\u001b[0m\u001b[1;33m(\u001b[0m\u001b[1;33m)\u001b[0m\u001b[1;33m\u001b[0m\u001b[0m\n\u001b[0;32m      5\u001b[0m         \u001b[0mself\u001b[0m\u001b[1;33m.\u001b[0m\u001b[0msetWindowTitle\u001b[0m\u001b[1;33m(\u001b[0m\u001b[1;34m\"XRF-GUI\"\u001b[0m\u001b[1;33m)\u001b[0m\u001b[1;33m\u001b[0m\u001b[0m\n\u001b[1;32m----> 6\u001b[1;33m         \u001b[0mself\u001b[0m\u001b[1;33m.\u001b[0m\u001b[0mcreate_layout\u001b[0m\u001b[1;33m(\u001b[0m\u001b[1;33m)\u001b[0m\u001b[1;33m\u001b[0m\u001b[0m\n\u001b[0m\u001b[0;32m      7\u001b[0m \u001b[1;33m\u001b[0m\u001b[0m\n\u001b[0;32m      8\u001b[0m     \u001b[1;32mdef\u001b[0m \u001b[0mcreate_layout\u001b[0m\u001b[1;33m(\u001b[0m\u001b[0mself\u001b[0m\u001b[1;33m)\u001b[0m\u001b[1;33m:\u001b[0m\u001b[1;33m\u001b[0m\u001b[0m\n",
      "\u001b[1;32m<ipython-input-9-f553826e7849>\u001b[0m in \u001b[0;36mcreate_layout\u001b[1;34m(self)\u001b[0m\n\u001b[0;32m     87\u001b[0m         \u001b[0mimage\u001b[0m \u001b[1;33m=\u001b[0m \u001b[0mQImage\u001b[0m\u001b[1;33m(\u001b[0m\u001b[0mtest\u001b[0m\u001b[1;33m,\u001b[0m \u001b[0mtest\u001b[0m\u001b[1;33m.\u001b[0m\u001b[0mshape\u001b[0m\u001b[1;33m[\u001b[0m\u001b[1;36m1\u001b[0m\u001b[1;33m]\u001b[0m\u001b[1;33m,\u001b[0m \u001b[0mtest\u001b[0m\u001b[1;33m.\u001b[0m\u001b[0mshape\u001b[0m\u001b[1;33m[\u001b[0m\u001b[1;36m0\u001b[0m\u001b[1;33m]\u001b[0m\u001b[1;33m,\u001b[0m \u001b[0mQImage\u001b[0m\u001b[1;33m.\u001b[0m\u001b[0mFormat_RGB888\u001b[0m\u001b[1;33m)\u001b[0m\u001b[1;33m\u001b[0m\u001b[0m\n\u001b[0;32m     88\u001b[0m         \u001b[0mpix\u001b[0m \u001b[1;33m=\u001b[0m \u001b[0mQPixmap\u001b[0m\u001b[1;33m(\u001b[0m\u001b[0mimage\u001b[0m\u001b[1;33m)\u001b[0m\u001b[1;33m\u001b[0m\u001b[0m\n\u001b[1;32m---> 89\u001b[1;33m         \u001b[0mself\u001b[0m\u001b[1;33m.\u001b[0m\u001b[0mdockLayout2\u001b[0m\u001b[1;33m.\u001b[0m\u001b[0maddWidget\u001b[0m\u001b[1;33m(\u001b[0m\u001b[0mpix\u001b[0m\u001b[1;33m)\u001b[0m\u001b[1;33m\u001b[0m\u001b[0m\n\u001b[0m\u001b[0;32m     90\u001b[0m \u001b[1;33m\u001b[0m\u001b[0m\n\u001b[0;32m     91\u001b[0m         \u001b[0mself\u001b[0m\u001b[1;33m.\u001b[0m\u001b[0mcanvas2\u001b[0m \u001b[1;33m=\u001b[0m \u001b[0mMplCanvas\u001b[0m\u001b[1;33m(\u001b[0m\u001b[1;33m)\u001b[0m\u001b[1;33m\u001b[0m\u001b[0m\n",
      "\u001b[1;31mTypeError\u001b[0m: addWidget(self, QWidget, stretch: int = 0, alignment: Qt.Alignment = 0): argument 1 has unexpected type 'QPixmap'"
     ]
    }
   ],
   "source": [
    "def main():\n",
    "    app = QApplication(sys.argv)\n",
    "    ex = Window()\n",
    "    ex.resize(1000, 1000)\n",
    "    ex.show()\n",
    "    sys.exit(app.exec_())\n",
    "\n",
    "if __name__ == '__main__':\n",
    "    main()"
   ]
  },
  {
   "cell_type": "code",
   "execution_count": null,
   "metadata": {
    "collapsed": true
   },
   "outputs": [],
   "source": []
  }
 ],
 "metadata": {
  "anaconda-cloud": {},
  "kernelspec": {
   "display_name": "Python 3",
   "language": "python",
   "name": "python3"
  },
  "language_info": {
   "codemirror_mode": {
    "name": "ipython",
    "version": 3
   },
   "file_extension": ".py",
   "mimetype": "text/x-python",
   "name": "python",
   "nbconvert_exporter": "python",
   "pygments_lexer": "ipython3",
   "version": "3.5.3"
  }
 },
 "nbformat": 4,
 "nbformat_minor": 1
}
