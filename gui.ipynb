{
 "cells": [
  {
   "cell_type": "code",
   "execution_count": 1,
   "metadata": {
    "collapsed": false
   },
   "outputs": [
    {
     "name": "stderr",
     "output_type": "stream",
     "text": [
      "/opt/conda_envs/analysis/lib/python3.5/site-packages/IPython/html.py:14: ShimWarning: The `IPython.html` package has been deprecated. You should import from `notebook` instead. `IPython.html.widgets` has moved to `ipywidgets`.\n",
      "  \"`IPython.html.widgets` has moved to `ipywidgets`.\", ShimWarning)\n"
     ]
    },
    {
     "data": {
      "text/plain": [
       "'\\nfrom pyxrf.api import (make_hdf)\\nimport create_movie as cm\\nfrom PIL import Image\\nimport matplotlib.pyplot as plt\\nimport matplotlib.image as mpimg\\nimport numpy as np\\nimport re\\nimport shutil\\nfrom MplCanvas import MplCanvas, brush_to_color_tuple\\nfrom OutputWrapper import OutputWrapper\\nfrom mpl_toolkits.axes_grid1 import make_axes_locatable\\n#import img_class\\nimport align_class as ac\\nimport logging\\n#from popup import Popup\\nlogger = logging.getLogger()\\nimport funcs as func\\nimport unicodedata\\n'"
      ]
     },
     "execution_count": 1,
     "metadata": {},
     "output_type": "execute_result"
    }
   ],
   "source": [
    "\n",
    "\n",
    "import sys\n",
    "import os\n",
    "from pyxrf.model.command_tools import fit_pixel_data_and_save\n",
    "#from matplotlib.backends.backend_qt4agg import FigureCanvasQTAgg as FigureCanvas\n",
    "#from matplotlib.backends.backend_qt4agg import NavigationToolbar2QT as NavigationToolbar\n",
    "from PyQt4.QtCore import *\n",
    "from PyQt4.QtGui import *\n",
    "\"\"\"\n",
    "from pyxrf.api import (make_hdf)\n",
    "import create_movie as cm\n",
    "from PIL import Image\n",
    "import matplotlib.pyplot as plt\n",
    "import matplotlib.image as mpimg\n",
    "import numpy as np\n",
    "import re\n",
    "import shutil\n",
    "from MplCanvas import MplCanvas, brush_to_color_tuple\n",
    "from OutputWrapper import OutputWrapper\n",
    "from mpl_toolkits.axes_grid1 import make_axes_locatable\n",
    "#import img_class\n",
    "import align_class as ac\n",
    "import logging\n",
    "#from popup import Popup\n",
    "logger = logging.getLogger()\n",
    "import funcs as func\n",
    "import unicodedata\n",
    "\"\"\""
   ]
  },
  {
   "cell_type": "code",
   "execution_count": 4,
   "metadata": {
    "collapsed": true
   },
   "outputs": [],
   "source": [
    "class Window(QMainWindow):\n",
    "    #Constructor\n",
    "    def __init__(self):\n",
    "        super(QMainWindow, self).__init__()\n",
    "        self.setWindowTitle(\"XRF-GUI\")\n",
    "        self.create_layout()\n",
    "        \n",
    "    def create_layout(self):\n",
    "        \n",
    "        #Center Widget/Layout for QMainWindow\n",
    "        self.centerWidget = QWidget()\n",
    "        self.centerLayout = QVBoxLayout()\n",
    "        self.centerWidget.setLayout(self.centerLayout)\n",
    "    \n",
    "        #Add Split to Main Layout\n",
    "        self.split = QSplitter()\n",
    "        self.centerLayout.addWidget(self.split)\n",
    "        \n",
    "    #Left Side of Splitter\n",
    "        self.splitLeftWidget = QWidget()\n",
    "        self.splitLeftLayout = QVBoxLayout()\n",
    "        self.splitLeftWidget.setLayout(self.splitLeftLayout)\n",
    "        \n",
    "        #Top Widget of Layout Left of Splitter\n",
    "        self.tab = QTabWidget()\n",
    "        self.splitLeftLayout.addWidget(self.tab)\n",
    "        \n",
    "        #Tab1\n",
    "        self.tab1Widget = QWidget()\n",
    "        self.tab1Layout = QVBoxLayout()\n",
    "        self.tab1Widget.setLayout(self.tab1Layout)\n",
    "        self.tab.addTab(self.tab1Widget, \"Tab 1\")\n",
    "        \n",
    "        #Second Widget of Layout Left of Splitter\n",
    "        self.textBox = QTextEdit()\n",
    "        self.textBox.setFixedWidth(500)\n",
    "        self.textBox.setFixedHeight(50)\n",
    "        self.splitLeftLayout.addWidget(self.textBox)\n",
    "        \n",
    "        \n",
    "    #Right Side of Splitter\n",
    "        self.temp = QPushButton('delete this button: is a placeholder')\n",
    "        \n",
    "    \n",
    "        self.split.addWidget(self.splitLeftWidget)\n",
    "        self.split.addWidget(self.temp)\n",
    "        \n",
    "        #setting Central Widget\n",
    "        self.setCentralWidget(self.centerWidget)"
   ]
  },
  {
   "cell_type": "code",
   "execution_count": 7,
   "metadata": {
    "collapsed": false
   },
   "outputs": [
    {
     "ename": "SystemExit",
     "evalue": "0",
     "output_type": "error",
     "traceback": [
      "An exception has occurred, use %tb to see the full traceback.\n",
      "\u001b[0;31mSystemExit\u001b[0m\u001b[0;31m:\u001b[0m 0\n"
     ]
    },
    {
     "name": "stderr",
     "output_type": "stream",
     "text": [
      "/opt/conda_envs/analysis/lib/python3.5/site-packages/IPython/core/interactiveshell.py:2889: UserWarning: To exit: use 'exit', 'quit', or Ctrl-D.\n",
      "  warn(\"To exit: use 'exit', 'quit', or Ctrl-D.\", stacklevel=1)\n"
     ]
    }
   ],
   "source": [
    "def main():\n",
    "    app = QApplication(sys.argv)\n",
    "    ex = Window()\n",
    "    ex.resize(750, 750)\n",
    "    ex.show()\n",
    "    sys.exit(app.exec_())\n",
    "\n",
    "if __name__ == '__main__':\n",
    "    main()"
   ]
  }
 ],
 "metadata": {
  "anaconda-cloud": {},
  "kernelspec": {
   "display_name": "Python [conda env:analysis]",
   "language": "python",
   "name": "conda-env-analysis-py"
  },
  "language_info": {
   "codemirror_mode": {
    "name": "ipython",
    "version": 3
   },
   "file_extension": ".py",
   "mimetype": "text/x-python",
   "name": "python",
   "nbconvert_exporter": "python",
   "pygments_lexer": "ipython3",
   "version": "3.5.3"
  }
 },
 "nbformat": 4,
 "nbformat_minor": 1
}
