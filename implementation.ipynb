{
 "cells": [
  {
   "cell_type": "code",
   "execution_count": 1,
   "metadata": {
    "collapsed": false
   },
   "outputs": [],
   "source": [
    "from xrfGui_v0 import Ui_MainWindow\n",
    "from PyQt4 import QtCore, QtGui\n",
    "import matplotlib.pyplot as plt\n",
    "import numpy as np\n",
    "from MplCanvas import MplCanvas, brush_to_color_tuple\n",
    "import matplotlib.image as mpimg\n",
    "import sys"
   ]
  },
  {
   "cell_type": "code",
   "execution_count": 6,
   "metadata": {
    "collapsed": false
   },
   "outputs": [],
   "source": [
    "class ExampleApp(QtGui.QMainWindow, Ui_MainWindow):\n",
    "    def __init__(self, parent=None):\n",
    "        super(ExampleApp, self).__init__(parent)\n",
    "        self.setupUi(self)\n",
    "        \n",
    "        self.tabifyDockWidget(self.dockWidget, self.dockWidget_4)\n",
    "        \n",
    "        img = mpimg.imread('numpy.png')\n",
    "        self.canvas = MplCanvas()\n",
    "        image = self.canvas.axes.imshow(img)\n",
    "        self.verticalLayout_4.insertWidget(0, self.canvas)\n",
    "        \n",
    "        \n",
    "        #Tab 1\n",
    "        self.pushButton.clicked.connect(self.choose_ref)\n",
    "        \n",
    "        \n",
    "        \n",
    "    def choose_ref(self):\n",
    "        word = str(QtGui.QFileDialog.getOpenFileName(self, 'Open File'))\n",
    "        self.lineEdit.setText(word)\n",
    "        "
   ]
  },
  {
   "cell_type": "code",
   "execution_count": 7,
   "metadata": {
    "collapsed": false
   },
   "outputs": [],
   "source": [
    "def main():\n",
    "    app = QtGui.QApplication(sys.argv)\n",
    "    form = ExampleApp()\n",
    "    form.show()\n",
    "    app.exec_()\n",
    "    \n",
    "if __name__ == '__main__':\n",
    "    main()"
   ]
  },
  {
   "cell_type": "code",
   "execution_count": null,
   "metadata": {
    "collapsed": true
   },
   "outputs": [],
   "source": []
  }
 ],
 "metadata": {
  "anaconda-cloud": {},
  "kernelspec": {
   "display_name": "Python [conda env:analysis]",
   "language": "python",
   "name": "conda-env-analysis-py"
  },
  "language_info": {
   "codemirror_mode": {
    "name": "ipython",
    "version": 3
   },
   "file_extension": ".py",
   "mimetype": "text/x-python",
   "name": "python",
   "nbconvert_exporter": "python",
   "pygments_lexer": "ipython3",
   "version": "3.5.3"
  }
 },
 "nbformat": 4,
 "nbformat_minor": 1
}
