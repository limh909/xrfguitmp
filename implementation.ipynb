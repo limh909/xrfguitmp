{
 "cells": [
  {
   "cell_type": "code",
   "execution_count": 1,
   "metadata": {
    "collapsed": false
   },
   "outputs": [
    {
     "name": "stderr",
     "output_type": "stream",
     "text": [
      "/opt/conda_envs/analysis/lib/python3.5/site-packages/IPython/html.py:14: ShimWarning: The `IPython.html` package has been deprecated. You should import from `notebook` instead. `IPython.html.widgets` has moved to `ipywidgets`.\n",
      "  \"`IPython.html.widgets` has moved to `ipywidgets`.\", ShimWarning)\n"
     ]
    }
   ],
   "source": [
    "from xrfGui_v0 import Ui_MainWindow\n",
    "from PyQt4 import QtCore, QtGui\n",
    "import matplotlib.pyplot as plt\n",
    "import numpy as np\n",
    "from MplCanvas import MplCanvas, brush_to_color_tuple\n",
    "import matplotlib.image as mpimg\n",
    "import sys\n",
    "import functions as func\n",
    "from pyxrf.api import (make_hdf)\n",
    "import os\n",
    "from matplotlib import interactive"
   ]
  },
  {
   "cell_type": "code",
   "execution_count": 3,
   "metadata": {
    "collapsed": false
   },
   "outputs": [],
   "source": [
    "class ExampleApp(QtGui.QMainWindow, Ui_MainWindow):\n",
    "    def __init__(self, parent=None):\n",
    "        super(ExampleApp, self).__init__(parent)\n",
    "        self.setupUi(self)\n",
    "    \n",
    "        \"\"\"\n",
    "        Attributes\n",
    "        ----------\n",
    "        wd: str\n",
    "            Working Directory where all saved files go. Initialized to current directory\n",
    "            \n",
    "        h5_file: str\n",
    "            path to h5 file chosen for pixel fitting\n",
    "            \n",
    "        json: str\n",
    "            path to json file for pixel fitting\n",
    "            \n",
    "        imgList: list of 2D numpy arrays of various shape\n",
    "            Holds raw image data selected from GUI\n",
    "            \n",
    "        canvas: MplCanvas\n",
    "            Widget that displays image from imgList\n",
    "        \"\"\"\n",
    "        \n",
    "        #Initialize Variables\n",
    "        self.wd = os.getcwd()\n",
    "        self.h5_file = \"\"\n",
    "        self.json = \"\"\n",
    "        self.imList = []\n",
    "        self.imStack = []\n",
    "        self.horizontalSlider.setMaximum(len(self.imList))\n",
    "        self.horizontalSlider.setMinimum(0)\n",
    "        self.lineEdit_9.setText(str(0)+\"/\"+str(0))\n",
    "        self.ref_img = mpimg.imread('numpy.png')\n",
    "        \n",
    "        \n",
    "        #Setup Dock Widgets as Tabs (can't be done in qt designer)\n",
    "        self.tabifyDockWidget(self.dockWidget_4, self.dockWidget)\n",
    "        \n",
    "        #Create blank Images\n",
    "        self.canvas = MplCanvas()\n",
    "        self.canvas2 = MplCanvas()\n",
    "        self.image = self.canvas.axes.imshow(self.ref_img)\n",
    "        self.image2 = self.canvas2.axes.imshow(self.ref_img)\n",
    "        self.verticalLayout_4.insertWidget(0, self.canvas)\n",
    "        self.verticalLayout_6.insertWidget(0, self.canvas2)\n",
    "        \n",
    "        \n",
    "        #Tab 1\n",
    "        self.pushButton.clicked.connect(lambda: func.choose_wd(self))\n",
    "        self.pushButton_2.clicked.connect(lambda: func.create_h5(self))    \n",
    "        self.pushButton_3.clicked.connect(lambda: func.create_h5_from_file(self))\n",
    "        self.pushButton_4.clicked.connect(lambda: func.choose_json(self))\n",
    "        self.pushButton_5.clicked.connect(lambda: func.fit_h5(self))\n",
    "        \n",
    "        #Tab 2\n",
    "        self.pushButton_6.clicked.connect(lambda: func.choose_im(self))\n",
    "        self.pushButton_9.clicked.connect(lambda: func.plot_crnt_im(self))\n",
    "        #self.pushButton_8.clicked.connect(lambda: func.)\n",
    "        self.pushButton_13.clicked.connect(lambda: func.choose_ref(self))\n",
    "        self.pushButton_14.clicked.connect(lambda: func.plot_ref(self, self.ref_img))\n",
    "        self.pushButton_7.clicked.connect(lambda: func.choose_img_dir(self))\n",
    "        self.pushButton_11.clicked.connect(lambda: func.plot_imgs(self))\n",
    "        #self.pushButtong_15.clicked.connect(lambda: func.align_img)\n",
    "        \n",
    "        \n",
    "        #Primary Dock Widget\n",
    "        self.horizontalSlider.valueChanged.connect(lambda: func.slider_change(self))\n",
    "    \n",
    "        "
   ]
  },
  {
   "cell_type": "code",
   "execution_count": 4,
   "metadata": {
    "collapsed": false,
    "scrolled": true
   },
   "outputs": [
    {
     "name": "stderr",
     "output_type": "stream",
     "text": [
      "Traceback (most recent call last):\n",
      "  File \"/opt/conda_envs/analysis/lib/python3.5/site-packages/matplotlib/backends/backend_qt5agg.py\", line 180, in __draw_idle_agg\n",
      "    FigureCanvasAgg.draw(self)\n",
      "  File \"/opt/conda_envs/analysis/lib/python3.5/site-packages/matplotlib/backends/backend_agg.py\", line 474, in draw\n",
      "    self.figure.draw(self.renderer)\n",
      "  File \"/opt/conda_envs/analysis/lib/python3.5/site-packages/matplotlib/artist.py\", line 62, in draw_wrapper\n",
      "    draw(artist, renderer, *args, **kwargs)\n",
      "  File \"/opt/conda_envs/analysis/lib/python3.5/site-packages/matplotlib/figure.py\", line 1159, in draw\n",
      "    func(*args)\n",
      "  File \"/opt/conda_envs/analysis/lib/python3.5/site-packages/matplotlib/artist.py\", line 62, in draw_wrapper\n",
      "    draw(artist, renderer, *args, **kwargs)\n",
      "  File \"/opt/conda_envs/analysis/lib/python3.5/site-packages/matplotlib/axes/_base.py\", line 2218, in draw\n",
      "    self.apply_aspect()\n",
      "  File \"/opt/conda_envs/analysis/lib/python3.5/site-packages/matplotlib/axes/_base.py\", line 1354, in apply_aspect\n",
      "    pb1 = pb.shrunk_to_aspect(box_aspect, pb, fig_aspect)\n",
      "  File \"/opt/conda_envs/analysis/lib/python3.5/site-packages/matplotlib/transforms.py\", line 600, in shrunk_to_aspect\n",
      "    raise ValueError(\"'box_aspect' and 'fig_aspect' must be positive\")\n",
      "ValueError: 'box_aspect' and 'fig_aspect' must be positive\n",
      "Traceback (most recent call last):\n",
      "  File \"/opt/conda_envs/analysis/lib/python3.5/site-packages/matplotlib/backends/backend_qt5agg.py\", line 180, in __draw_idle_agg\n",
      "    FigureCanvasAgg.draw(self)\n",
      "  File \"/opt/conda_envs/analysis/lib/python3.5/site-packages/matplotlib/backends/backend_agg.py\", line 474, in draw\n",
      "    self.figure.draw(self.renderer)\n",
      "  File \"/opt/conda_envs/analysis/lib/python3.5/site-packages/matplotlib/artist.py\", line 62, in draw_wrapper\n",
      "    draw(artist, renderer, *args, **kwargs)\n",
      "  File \"/opt/conda_envs/analysis/lib/python3.5/site-packages/matplotlib/figure.py\", line 1159, in draw\n",
      "    func(*args)\n",
      "  File \"/opt/conda_envs/analysis/lib/python3.5/site-packages/matplotlib/artist.py\", line 62, in draw_wrapper\n",
      "    draw(artist, renderer, *args, **kwargs)\n",
      "  File \"/opt/conda_envs/analysis/lib/python3.5/site-packages/matplotlib/axes/_base.py\", line 2218, in draw\n",
      "    self.apply_aspect()\n",
      "  File \"/opt/conda_envs/analysis/lib/python3.5/site-packages/matplotlib/axes/_base.py\", line 1354, in apply_aspect\n",
      "    pb1 = pb.shrunk_to_aspect(box_aspect, pb, fig_aspect)\n",
      "  File \"/opt/conda_envs/analysis/lib/python3.5/site-packages/matplotlib/transforms.py\", line 600, in shrunk_to_aspect\n",
      "    raise ValueError(\"'box_aspect' and 'fig_aspect' must be positive\")\n",
      "ValueError: 'box_aspect' and 'fig_aspect' must be positive\n"
     ]
    }
   ],
   "source": [
    "def main():\n",
    "    app = QtGui.QApplication(sys.argv)\n",
    "    form = ExampleApp()\n",
    "    form.show()\n",
    "    app.exec_()\n",
    "    \n",
    "if __name__ == '__main__':\n",
    "    main()"
   ]
  },
  {
   "cell_type": "code",
   "execution_count": null,
   "metadata": {
    "collapsed": true
   },
   "outputs": [],
   "source": []
  }
 ],
 "metadata": {
  "anaconda-cloud": {},
  "kernelspec": {
   "display_name": "Python [conda env:analysis]",
   "language": "python",
   "name": "conda-env-analysis-py"
  },
  "language_info": {
   "codemirror_mode": {
    "name": "ipython",
    "version": 3
   },
   "file_extension": ".py",
   "mimetype": "text/x-python",
   "name": "python",
   "nbconvert_exporter": "python",
   "pygments_lexer": "ipython3",
   "version": "3.5.3"
  }
 },
 "nbformat": 4,
 "nbformat_minor": 1
}
