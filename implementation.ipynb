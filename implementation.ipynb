{
 "cells": [
  {
   "cell_type": "code",
   "execution_count": 1,
   "metadata": {},
   "outputs": [
    {
     "name": "stderr",
     "output_type": "stream",
     "text": [
      "C:\\Users\\Derek\\Anaconda3\\envs\\pyxrf_test\\lib\\site-packages\\IPython\\html.py:14: ShimWarning: The `IPython.html` package has been deprecated since IPython 4.0. You should import from `notebook` instead. `IPython.html.widgets` has moved to `ipywidgets`.\n",
      "  \"`IPython.html.widgets` has moved to `ipywidgets`.\", ShimWarning)\n"
     ]
    }
   ],
   "source": [
    "from xrfGui_v1 import Ui_MainWindow\n",
    "from PyQt4 import QtCore, QtGui\n",
    "import matplotlib.pyplot as plt\n",
    "import numpy as np\n",
    "from MplCanvas import MplCanvas, brush_to_color_tuple\n",
    "import matplotlib.image as mpimg\n",
    "import sys\n",
    "import functions as func\n",
    "from pyxrf.api import (make_hdf)\n",
    "import os\n",
    "from matplotlib import interactive\n",
    "from matplotlib.backends.backend_qt4 import NavigationToolbar2QT as NavigationToolbar\n",
    "from mpl_toolkits.axes_grid1 import make_axes_locatable\n",
    "import Lasso as lasso"
   ]
  },
  {
   "cell_type": "code",
   "execution_count": 2,
   "metadata": {
    "collapsed": true
   },
   "outputs": [],
   "source": [
    "class ExampleApp(QtGui.QMainWindow, Ui_MainWindow):\n",
    "    \"\"\"\n",
    "    This class connets buttons from the inherited Ui_MainWindow GUI to functions\n",
    "    which will visualize, register, and analyze x-ray fluorescence data.\n",
    "    It is intended that the functionality of buttons and the GUI itself be\n",
    "    seperate for maximum flexibility and code adaptation.\n",
    "    \"\"\"\n",
    "    \n",
    "    def __init__(self, parent=None):\n",
    "        super(ExampleApp, self).__init__(parent)\n",
    "        self.setupUi(self)\n",
    "    \n",
    "        #Initialize Variables\n",
    "        self.wd = os.getcwd()\n",
    "        self.h5_file = \"\"\n",
    "        self.json = \"\"\n",
    "        self.imList = []\n",
    "        self.horizontalSlider.setMaximum(len(self.imList))\n",
    "        self.horizontalSlider.setMinimum(0)\n",
    "        self.ref_img = np.array([])\n",
    "        self.norm_img = np.array([])\n",
    "        self.normBox = False\n",
    "        self.alignBox = False\n",
    "        \n",
    "        #Setup Dock Widgets as Tabs (can't be done in qt designer)\n",
    "        self.tabifyDockWidget(self.dockWidget_4, self.dockWidget)        \n",
    "        \n",
    "        #Create blank Images and display as placeholders\n",
    "        blank = np.zeros((100, 100))\n",
    "        tmp = mpimg.imread('numpy.png')\n",
    "        self.blank_img = func.Im(blank)\n",
    "        self.canvas = MplCanvas(width=9,height=7)\n",
    "        self.ref_canvas = MplCanvas()\n",
    "        self.image = self.canvas.axes.imshow(tmp, cmap='jet')\n",
    "        self.navi_toolbar = NavigationToolbar(self.canvas, self)\n",
    "        self.gridLayout_8.addWidget(self.navi_toolbar)\n",
    "        self.image2 = self.ref_canvas.axes.imshow(tmp)\n",
    "        self.verticalLayout_4.insertWidget(0, self.canvas)\n",
    "        self.verticalLayout_6.insertWidget(0, self.ref_canvas)\n",
    "        divider = make_axes_locatable(self.canvas.axes)\n",
    "        cax = divider.append_axes('right', size='5%', pad=0.05) # Set colorbar to right of image\n",
    "        self.cb = self.canvas.fig.colorbar(self.image, cax = cax)\n",
    "        self.lman = lasso.LassoManager(self.canvas.axes, tmp)\n",
    "        \n",
    "        #Begin with no images displayed\n",
    "        self.lineEdit_9.setText(str(0)+\"/\"+str(0))\n",
    "        \n",
    "        #Buttons for choosing ROI and deleting images from imList\n",
    "        self.pushButton_10.clicked.connect(lambda: self.lman.hide_roi())\n",
    "        self.pushButton_17.clicked.connect(lambda: func.show_roi(self))\n",
    "        self.pushButton_18.clicked.connect(lambda: func.save_roi(self))\n",
    "        self.pushButton_21.clicked.connect(lambda: func.delete_im(self))\n",
    "        \n",
    "        #Data acquisition tab\n",
    "        self.pushButton.clicked.connect(lambda: func.choose_wd(self))\n",
    "        self.pushButton_2.clicked.connect(lambda: func.create_h5(self))    \n",
    "        self.pushButton_3.clicked.connect(lambda: func.create_h5_from_file(self))\n",
    "        self.pushButton_4.clicked.connect(lambda: func.choose_json(self))\n",
    "        self.pushButton_5.clicked.connect(lambda: func.fit_h5(self))\n",
    "        \n",
    "        #Image operation tab\n",
    "        self.pushButton_6.clicked.connect(lambda: func.choose_im(self))\n",
    "        self.pushButton_9.clicked.connect(lambda: func.plot_crnt_im(self))\n",
    "        self.pushButton_8.clicked.connect(lambda: func.choose_norm(self))\n",
    "        self.pushButton_13.clicked.connect(lambda: func.choose_ref(self))\n",
    "        self.pushButton_14.clicked.connect(lambda: func.plot_reference(self))\n",
    "        self.pushButton_7.clicked.connect(lambda: func.choose_img_dir(self))\n",
    "        self.pushButton_11.clicked.connect(lambda: func.plot_imgs(self))\n",
    "        \n",
    "        #Chemical analysis tab\n",
    "        self.pushButton_19.clicked.connect(lambda: func.batch_registration(self))\n",
    "        self.pushButton_20.clicked.connect(lambda: func.generate_data(self))\n",
    "        \n",
    "        #Primary Dock Widget\n",
    "        self.horizontalSlider.valueChanged.connect(lambda: func.slider_change(self))\n",
    "        self.checkBox_5.clicked.connect(lambda: func.make_ref_align_box(self))\n",
    "        self.checkBox_6.clicked.connect(lambda: func.make_ref_norm_box(self))\n",
    "        #Image information\n",
    "        #See functions.py for how the labels are taken care of with Image class\n",
    "        \n",
    "        #Image Augmentation\n",
    "        self.checkBox.clicked.connect(lambda: func.align_check(self))\n",
    "        self.checkBox_2.clicked.connect(lambda: func.normalize_check(self))"
   ]
  },
  {
   "cell_type": "code",
   "execution_count": 3,
   "metadata": {
    "scrolled": false
   },
   "outputs": [
    {
     "name": "stderr",
     "output_type": "stream",
     "text": [
      "D:\\xrf_repo\\xrf-gui\\MplCanvas.py:21: MatplotlibDeprecationWarning: axes.hold is deprecated.\n",
      "    See the API Changes document (http://matplotlib.org/api/api_changes.html)\n",
      "    for more details.\n",
      "  self.axes.hold(False)\n",
      "Traceback (most recent call last):\n",
      "  File \"C:\\Users\\Derek\\Anaconda3\\envs\\pyxrf_test\\lib\\site-packages\\matplotlib\\backends\\backend_qt5agg.py\", line 197, in __draw_idle_agg\n",
      "    FigureCanvasAgg.draw(self)\n",
      "  File \"C:\\Users\\Derek\\Anaconda3\\envs\\pyxrf_test\\lib\\site-packages\\matplotlib\\backends\\backend_agg.py\", line 464, in draw\n",
      "    self.figure.draw(self.renderer)\n",
      "  File \"C:\\Users\\Derek\\Anaconda3\\envs\\pyxrf_test\\lib\\site-packages\\matplotlib\\artist.py\", line 63, in draw_wrapper\n",
      "    draw(artist, renderer, *args, **kwargs)\n",
      "  File \"C:\\Users\\Derek\\Anaconda3\\envs\\pyxrf_test\\lib\\site-packages\\matplotlib\\figure.py\", line 1143, in draw\n",
      "    renderer, self, dsu, self.suppressComposite)\n",
      "  File \"C:\\Users\\Derek\\Anaconda3\\envs\\pyxrf_test\\lib\\site-packages\\matplotlib\\image.py\", line 139, in _draw_list_compositing_images\n",
      "    a.draw(renderer)\n",
      "  File \"C:\\Users\\Derek\\Anaconda3\\envs\\pyxrf_test\\lib\\site-packages\\matplotlib\\artist.py\", line 63, in draw_wrapper\n",
      "    draw(artist, renderer, *args, **kwargs)\n",
      "  File \"C:\\Users\\Derek\\Anaconda3\\envs\\pyxrf_test\\lib\\site-packages\\matplotlib\\axes\\_base.py\", line 2347, in draw\n",
      "    self.apply_aspect()\n",
      "  File \"C:\\Users\\Derek\\Anaconda3\\envs\\pyxrf_test\\lib\\site-packages\\matplotlib\\axes\\_base.py\", line 1436, in apply_aspect\n",
      "    pb1 = pb.shrunk_to_aspect(box_aspect, pb, fig_aspect)\n",
      "  File \"C:\\Users\\Derek\\Anaconda3\\envs\\pyxrf_test\\lib\\site-packages\\matplotlib\\transforms.py\", line 601, in shrunk_to_aspect\n",
      "    raise ValueError(\"'box_aspect' and 'fig_aspect' must be positive\")\n",
      "ValueError: 'box_aspect' and 'fig_aspect' must be positive\n",
      "Traceback (most recent call last):\n",
      "  File \"C:\\Users\\Derek\\Anaconda3\\envs\\pyxrf_test\\lib\\site-packages\\matplotlib\\backends\\backend_qt5agg.py\", line 197, in __draw_idle_agg\n",
      "    FigureCanvasAgg.draw(self)\n",
      "  File \"C:\\Users\\Derek\\Anaconda3\\envs\\pyxrf_test\\lib\\site-packages\\matplotlib\\backends\\backend_agg.py\", line 464, in draw\n",
      "    self.figure.draw(self.renderer)\n",
      "  File \"C:\\Users\\Derek\\Anaconda3\\envs\\pyxrf_test\\lib\\site-packages\\matplotlib\\artist.py\", line 63, in draw_wrapper\n",
      "    draw(artist, renderer, *args, **kwargs)\n",
      "  File \"C:\\Users\\Derek\\Anaconda3\\envs\\pyxrf_test\\lib\\site-packages\\matplotlib\\figure.py\", line 1143, in draw\n",
      "    renderer, self, dsu, self.suppressComposite)\n",
      "  File \"C:\\Users\\Derek\\Anaconda3\\envs\\pyxrf_test\\lib\\site-packages\\matplotlib\\image.py\", line 139, in _draw_list_compositing_images\n",
      "    a.draw(renderer)\n",
      "  File \"C:\\Users\\Derek\\Anaconda3\\envs\\pyxrf_test\\lib\\site-packages\\matplotlib\\artist.py\", line 63, in draw_wrapper\n",
      "    draw(artist, renderer, *args, **kwargs)\n",
      "  File \"C:\\Users\\Derek\\Anaconda3\\envs\\pyxrf_test\\lib\\site-packages\\matplotlib\\axes\\_base.py\", line 2347, in draw\n",
      "    self.apply_aspect()\n",
      "  File \"C:\\Users\\Derek\\Anaconda3\\envs\\pyxrf_test\\lib\\site-packages\\matplotlib\\axes\\_base.py\", line 1436, in apply_aspect\n",
      "    pb1 = pb.shrunk_to_aspect(box_aspect, pb, fig_aspect)\n",
      "  File \"C:\\Users\\Derek\\Anaconda3\\envs\\pyxrf_test\\lib\\site-packages\\matplotlib\\transforms.py\", line 601, in shrunk_to_aspect\n",
      "    raise ValueError(\"'box_aspect' and 'fig_aspect' must be positive\")\n",
      "ValueError: 'box_aspect' and 'fig_aspect' must be positive\n"
     ]
    },
    {
     "ename": "AttributeError",
     "evalue": "'Round' object has no attribute 'set_figure'",
     "output_type": "error",
     "traceback": [
      "\u001b[1;31m---------------------------------------------------------------------------\u001b[0m",
      "\u001b[1;31mAttributeError\u001b[0m                            Traceback (most recent call last)",
      "\u001b[1;32m~\\Anaconda3\\envs\\pyxrf_test\\lib\\site-packages\\matplotlib\\backends\\backend_qt5.py\u001b[0m in \u001b[0;36mmouseReleaseEvent\u001b[1;34m(self, event)\u001b[0m\n\u001b[0;32m    298\u001b[0m         \u001b[1;32mif\u001b[0m \u001b[0mbutton\u001b[0m \u001b[1;32mis\u001b[0m \u001b[1;32mnot\u001b[0m \u001b[1;32mNone\u001b[0m\u001b[1;33m:\u001b[0m\u001b[1;33m\u001b[0m\u001b[0m\n\u001b[0;32m    299\u001b[0m             FigureCanvasBase.button_release_event(self, x, y, button,\n\u001b[1;32m--> 300\u001b[1;33m                                                   guiEvent=event)\n\u001b[0m\u001b[0;32m    301\u001b[0m         \u001b[1;32mif\u001b[0m \u001b[0mDEBUG\u001b[0m\u001b[1;33m:\u001b[0m\u001b[1;33m\u001b[0m\u001b[0m\n\u001b[0;32m    302\u001b[0m             \u001b[0mprint\u001b[0m\u001b[1;33m(\u001b[0m\u001b[1;34m'button released'\u001b[0m\u001b[1;33m)\u001b[0m\u001b[1;33m\u001b[0m\u001b[0m\n",
      "\u001b[1;32m~\\Anaconda3\\envs\\pyxrf_test\\lib\\site-packages\\matplotlib\\backend_bases.py\u001b[0m in \u001b[0;36mbutton_release_event\u001b[1;34m(self, x, y, button, guiEvent)\u001b[0m\n\u001b[0;32m   1930\u001b[0m         \u001b[0ms\u001b[0m \u001b[1;33m=\u001b[0m \u001b[1;34m'button_release_event'\u001b[0m\u001b[1;33m\u001b[0m\u001b[0m\n\u001b[0;32m   1931\u001b[0m         \u001b[0mevent\u001b[0m \u001b[1;33m=\u001b[0m \u001b[0mMouseEvent\u001b[0m\u001b[1;33m(\u001b[0m\u001b[0ms\u001b[0m\u001b[1;33m,\u001b[0m \u001b[0mself\u001b[0m\u001b[1;33m,\u001b[0m \u001b[0mx\u001b[0m\u001b[1;33m,\u001b[0m \u001b[0my\u001b[0m\u001b[1;33m,\u001b[0m \u001b[0mbutton\u001b[0m\u001b[1;33m,\u001b[0m \u001b[0mself\u001b[0m\u001b[1;33m.\u001b[0m\u001b[0m_key\u001b[0m\u001b[1;33m,\u001b[0m \u001b[0mguiEvent\u001b[0m\u001b[1;33m=\u001b[0m\u001b[0mguiEvent\u001b[0m\u001b[1;33m)\u001b[0m\u001b[1;33m\u001b[0m\u001b[0m\n\u001b[1;32m-> 1932\u001b[1;33m         \u001b[0mself\u001b[0m\u001b[1;33m.\u001b[0m\u001b[0mcallbacks\u001b[0m\u001b[1;33m.\u001b[0m\u001b[0mprocess\u001b[0m\u001b[1;33m(\u001b[0m\u001b[0ms\u001b[0m\u001b[1;33m,\u001b[0m \u001b[0mevent\u001b[0m\u001b[1;33m)\u001b[0m\u001b[1;33m\u001b[0m\u001b[0m\n\u001b[0m\u001b[0;32m   1933\u001b[0m         \u001b[0mself\u001b[0m\u001b[1;33m.\u001b[0m\u001b[0m_button\u001b[0m \u001b[1;33m=\u001b[0m \u001b[1;32mNone\u001b[0m\u001b[1;33m\u001b[0m\u001b[0m\n\u001b[0;32m   1934\u001b[0m \u001b[1;33m\u001b[0m\u001b[0m\n",
      "\u001b[1;32m~\\Anaconda3\\envs\\pyxrf_test\\lib\\site-packages\\matplotlib\\cbook.py\u001b[0m in \u001b[0;36mprocess\u001b[1;34m(self, s, *args, **kwargs)\u001b[0m\n\u001b[0;32m    547\u001b[0m             \u001b[1;32mfor\u001b[0m \u001b[0mcid\u001b[0m\u001b[1;33m,\u001b[0m \u001b[0mproxy\u001b[0m \u001b[1;32min\u001b[0m \u001b[0mlist\u001b[0m\u001b[1;33m(\u001b[0m\u001b[0msix\u001b[0m\u001b[1;33m.\u001b[0m\u001b[0miteritems\u001b[0m\u001b[1;33m(\u001b[0m\u001b[0mself\u001b[0m\u001b[1;33m.\u001b[0m\u001b[0mcallbacks\u001b[0m\u001b[1;33m[\u001b[0m\u001b[0ms\u001b[0m\u001b[1;33m]\u001b[0m\u001b[1;33m)\u001b[0m\u001b[1;33m)\u001b[0m\u001b[1;33m:\u001b[0m\u001b[1;33m\u001b[0m\u001b[0m\n\u001b[0;32m    548\u001b[0m                 \u001b[1;32mtry\u001b[0m\u001b[1;33m:\u001b[0m\u001b[1;33m\u001b[0m\u001b[0m\n\u001b[1;32m--> 549\u001b[1;33m                     \u001b[0mproxy\u001b[0m\u001b[1;33m(\u001b[0m\u001b[1;33m*\u001b[0m\u001b[0margs\u001b[0m\u001b[1;33m,\u001b[0m \u001b[1;33m**\u001b[0m\u001b[0mkwargs\u001b[0m\u001b[1;33m)\u001b[0m\u001b[1;33m\u001b[0m\u001b[0m\n\u001b[0m\u001b[0;32m    550\u001b[0m                 \u001b[1;32mexcept\u001b[0m \u001b[0mReferenceError\u001b[0m\u001b[1;33m:\u001b[0m\u001b[1;33m\u001b[0m\u001b[0m\n\u001b[0;32m    551\u001b[0m                     \u001b[0mself\u001b[0m\u001b[1;33m.\u001b[0m\u001b[0m_remove_proxy\u001b[0m\u001b[1;33m(\u001b[0m\u001b[0mproxy\u001b[0m\u001b[1;33m)\u001b[0m\u001b[1;33m\u001b[0m\u001b[0m\n",
      "\u001b[1;32m~\\Anaconda3\\envs\\pyxrf_test\\lib\\site-packages\\matplotlib\\cbook.py\u001b[0m in \u001b[0;36m__call__\u001b[1;34m(self, *args, **kwargs)\u001b[0m\n\u001b[0;32m    414\u001b[0m             \u001b[0mmtd\u001b[0m \u001b[1;33m=\u001b[0m \u001b[0mself\u001b[0m\u001b[1;33m.\u001b[0m\u001b[0mfunc\u001b[0m\u001b[1;33m\u001b[0m\u001b[0m\n\u001b[0;32m    415\u001b[0m         \u001b[1;31m# invoke the callable and return the result\u001b[0m\u001b[1;33m\u001b[0m\u001b[1;33m\u001b[0m\u001b[0m\n\u001b[1;32m--> 416\u001b[1;33m         \u001b[1;32mreturn\u001b[0m \u001b[0mmtd\u001b[0m\u001b[1;33m(\u001b[0m\u001b[1;33m*\u001b[0m\u001b[0margs\u001b[0m\u001b[1;33m,\u001b[0m \u001b[1;33m**\u001b[0m\u001b[0mkwargs\u001b[0m\u001b[1;33m)\u001b[0m\u001b[1;33m\u001b[0m\u001b[0m\n\u001b[0m\u001b[0;32m    417\u001b[0m \u001b[1;33m\u001b[0m\u001b[0m\n\u001b[0;32m    418\u001b[0m     \u001b[1;32mdef\u001b[0m \u001b[0m__eq__\u001b[0m\u001b[1;33m(\u001b[0m\u001b[0mself\u001b[0m\u001b[1;33m,\u001b[0m \u001b[0mother\u001b[0m\u001b[1;33m)\u001b[0m\u001b[1;33m:\u001b[0m\u001b[1;33m\u001b[0m\u001b[0m\n",
      "\u001b[1;32m~\\Anaconda3\\envs\\pyxrf_test\\lib\\site-packages\\matplotlib\\widgets.py\u001b[0m in \u001b[0;36monrelease\u001b[1;34m(self, event)\u001b[0m\n\u001b[0;32m   2257\u001b[0m             \u001b[0mself\u001b[0m\u001b[1;33m.\u001b[0m\u001b[0mverts\u001b[0m\u001b[1;33m.\u001b[0m\u001b[0mappend\u001b[0m\u001b[1;33m(\u001b[0m\u001b[1;33m(\u001b[0m\u001b[0mevent\u001b[0m\u001b[1;33m.\u001b[0m\u001b[0mxdata\u001b[0m\u001b[1;33m,\u001b[0m \u001b[0mevent\u001b[0m\u001b[1;33m.\u001b[0m\u001b[0mydata\u001b[0m\u001b[1;33m)\u001b[0m\u001b[1;33m)\u001b[0m\u001b[1;33m\u001b[0m\u001b[0m\n\u001b[0;32m   2258\u001b[0m             \u001b[1;32mif\u001b[0m \u001b[0mlen\u001b[0m\u001b[1;33m(\u001b[0m\u001b[0mself\u001b[0m\u001b[1;33m.\u001b[0m\u001b[0mverts\u001b[0m\u001b[1;33m)\u001b[0m \u001b[1;33m>\u001b[0m \u001b[1;36m2\u001b[0m\u001b[1;33m:\u001b[0m\u001b[1;33m\u001b[0m\u001b[0m\n\u001b[1;32m-> 2259\u001b[1;33m                 \u001b[0mself\u001b[0m\u001b[1;33m.\u001b[0m\u001b[0mcallback\u001b[0m\u001b[1;33m(\u001b[0m\u001b[0mself\u001b[0m\u001b[1;33m.\u001b[0m\u001b[0mverts\u001b[0m\u001b[1;33m)\u001b[0m\u001b[1;33m\u001b[0m\u001b[0m\n\u001b[0m\u001b[0;32m   2260\u001b[0m             \u001b[0mself\u001b[0m\u001b[1;33m.\u001b[0m\u001b[0max\u001b[0m\u001b[1;33m.\u001b[0m\u001b[0mlines\u001b[0m\u001b[1;33m.\u001b[0m\u001b[0mremove\u001b[0m\u001b[1;33m(\u001b[0m\u001b[0mself\u001b[0m\u001b[1;33m.\u001b[0m\u001b[0mline\u001b[0m\u001b[1;33m)\u001b[0m\u001b[1;33m\u001b[0m\u001b[0m\n\u001b[0;32m   2261\u001b[0m         \u001b[0mself\u001b[0m\u001b[1;33m.\u001b[0m\u001b[0mverts\u001b[0m \u001b[1;33m=\u001b[0m \u001b[1;32mNone\u001b[0m\u001b[1;33m\u001b[0m\u001b[0m\n",
      "\u001b[1;32mD:\\xrf_repo\\xrf-gui\\Lasso.py\u001b[0m in \u001b[0;36mcallback\u001b[1;34m(self, verts)\u001b[0m\n\u001b[0;32m     24\u001b[0m         \u001b[1;31m#self.patch = patches.PathPatch(self.p, facecolor=(1, 0, 0, 0.3), lw=2)\u001b[0m\u001b[1;33m\u001b[0m\u001b[1;33m\u001b[0m\u001b[0m\n\u001b[0;32m     25\u001b[0m         \u001b[0mself\u001b[0m\u001b[1;33m.\u001b[0m\u001b[0mpatch\u001b[0m \u001b[1;33m=\u001b[0m \u001b[0mpatches\u001b[0m\u001b[1;33m.\u001b[0m\u001b[0mBoxStyle\u001b[0m\u001b[1;33m.\u001b[0m\u001b[0mRound\u001b[0m\u001b[1;33m(\u001b[0m\u001b[0mpad\u001b[0m\u001b[1;33m=\u001b[0m\u001b[1;36m0.2\u001b[0m\u001b[1;33m)\u001b[0m\u001b[1;33m\u001b[0m\u001b[0m\n\u001b[1;32m---> 26\u001b[1;33m         \u001b[0mself\u001b[0m\u001b[1;33m.\u001b[0m\u001b[0maxes\u001b[0m\u001b[1;33m.\u001b[0m\u001b[0madd_patch\u001b[0m\u001b[1;33m(\u001b[0m\u001b[0mself\u001b[0m\u001b[1;33m.\u001b[0m\u001b[0mpatch\u001b[0m\u001b[1;33m)\u001b[0m\u001b[1;33m\u001b[0m\u001b[0m\n\u001b[0m\u001b[0;32m     27\u001b[0m         \u001b[0mself\u001b[0m\u001b[1;33m.\u001b[0m\u001b[0mcanvas\u001b[0m\u001b[1;33m.\u001b[0m\u001b[0mdraw_idle\u001b[0m\u001b[1;33m(\u001b[0m\u001b[1;33m)\u001b[0m\u001b[1;33m\u001b[0m\u001b[0m\n\u001b[0;32m     28\u001b[0m         \u001b[0mself\u001b[0m\u001b[1;33m.\u001b[0m\u001b[0mcanvas\u001b[0m\u001b[1;33m.\u001b[0m\u001b[0mwidgetlock\u001b[0m\u001b[1;33m.\u001b[0m\u001b[0mrelease\u001b[0m\u001b[1;33m(\u001b[0m\u001b[0mself\u001b[0m\u001b[1;33m.\u001b[0m\u001b[0mlasso\u001b[0m\u001b[1;33m)\u001b[0m\u001b[1;33m\u001b[0m\u001b[0m\n",
      "\u001b[1;32m~\\Anaconda3\\envs\\pyxrf_test\\lib\\site-packages\\matplotlib\\axes\\_base.py\u001b[0m in \u001b[0;36madd_patch\u001b[1;34m(self, p)\u001b[0m\n\u001b[0;32m   1857\u001b[0m         \"\"\"\n\u001b[0;32m   1858\u001b[0m \u001b[1;33m\u001b[0m\u001b[0m\n\u001b[1;32m-> 1859\u001b[1;33m         \u001b[0mself\u001b[0m\u001b[1;33m.\u001b[0m\u001b[0m_set_artist_props\u001b[0m\u001b[1;33m(\u001b[0m\u001b[0mp\u001b[0m\u001b[1;33m)\u001b[0m\u001b[1;33m\u001b[0m\u001b[0m\n\u001b[0m\u001b[0;32m   1860\u001b[0m         \u001b[1;32mif\u001b[0m \u001b[0mp\u001b[0m\u001b[1;33m.\u001b[0m\u001b[0mget_clip_path\u001b[0m\u001b[1;33m(\u001b[0m\u001b[1;33m)\u001b[0m \u001b[1;32mis\u001b[0m \u001b[1;32mNone\u001b[0m\u001b[1;33m:\u001b[0m\u001b[1;33m\u001b[0m\u001b[0m\n\u001b[0;32m   1861\u001b[0m             \u001b[0mp\u001b[0m\u001b[1;33m.\u001b[0m\u001b[0mset_clip_path\u001b[0m\u001b[1;33m(\u001b[0m\u001b[0mself\u001b[0m\u001b[1;33m.\u001b[0m\u001b[0mpatch\u001b[0m\u001b[1;33m)\u001b[0m\u001b[1;33m\u001b[0m\u001b[0m\n",
      "\u001b[1;32m~\\Anaconda3\\envs\\pyxrf_test\\lib\\site-packages\\matplotlib\\axes\\_base.py\u001b[0m in \u001b[0;36m_set_artist_props\u001b[1;34m(self, a)\u001b[0m\n\u001b[0;32m    916\u001b[0m     \u001b[1;32mdef\u001b[0m \u001b[0m_set_artist_props\u001b[0m\u001b[1;33m(\u001b[0m\u001b[0mself\u001b[0m\u001b[1;33m,\u001b[0m \u001b[0ma\u001b[0m\u001b[1;33m)\u001b[0m\u001b[1;33m:\u001b[0m\u001b[1;33m\u001b[0m\u001b[0m\n\u001b[0;32m    917\u001b[0m         \u001b[1;34m\"\"\"set the boilerplate props for artists added to axes\"\"\"\u001b[0m\u001b[1;33m\u001b[0m\u001b[0m\n\u001b[1;32m--> 918\u001b[1;33m         \u001b[0ma\u001b[0m\u001b[1;33m.\u001b[0m\u001b[0mset_figure\u001b[0m\u001b[1;33m(\u001b[0m\u001b[0mself\u001b[0m\u001b[1;33m.\u001b[0m\u001b[0mfigure\u001b[0m\u001b[1;33m)\u001b[0m\u001b[1;33m\u001b[0m\u001b[0m\n\u001b[0m\u001b[0;32m    919\u001b[0m         \u001b[1;32mif\u001b[0m \u001b[1;32mnot\u001b[0m \u001b[0ma\u001b[0m\u001b[1;33m.\u001b[0m\u001b[0mis_transform_set\u001b[0m\u001b[1;33m(\u001b[0m\u001b[1;33m)\u001b[0m\u001b[1;33m:\u001b[0m\u001b[1;33m\u001b[0m\u001b[0m\n\u001b[0;32m    920\u001b[0m             \u001b[0ma\u001b[0m\u001b[1;33m.\u001b[0m\u001b[0mset_transform\u001b[0m\u001b[1;33m(\u001b[0m\u001b[0mself\u001b[0m\u001b[1;33m.\u001b[0m\u001b[0mtransData\u001b[0m\u001b[1;33m)\u001b[0m\u001b[1;33m\u001b[0m\u001b[0m\n",
      "\u001b[1;31mAttributeError\u001b[0m: 'Round' object has no attribute 'set_figure'"
     ]
    }
   ],
   "source": [
    "def main():\n",
    "    app = QtGui.QApplication(sys.argv)\n",
    "    form = ExampleApp()\n",
    "    form.show()\n",
    "    app.exec_()\n",
    "    \n",
    "if __name__ == '__main__':\n",
    "    main()"
   ]
  },
  {
   "cell_type": "code",
   "execution_count": null,
   "metadata": {
    "collapsed": true
   },
   "outputs": [],
   "source": []
  },
  {
   "cell_type": "code",
   "execution_count": null,
   "metadata": {
    "collapsed": true
   },
   "outputs": [],
   "source": []
  }
 ],
 "metadata": {
  "anaconda-cloud": {},
  "kernelspec": {
   "display_name": "Python 3",
   "language": "python",
   "name": "python3"
  },
  "language_info": {
   "codemirror_mode": {
    "name": "ipython",
    "version": 3
   },
   "file_extension": ".py",
   "mimetype": "text/x-python",
   "name": "python",
   "nbconvert_exporter": "python",
   "pygments_lexer": "ipython3",
   "version": "3.5.3"
  }
 },
 "nbformat": 4,
 "nbformat_minor": 1
}
