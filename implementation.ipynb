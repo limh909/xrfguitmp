{
 "cells": [
  {
   "cell_type": "code",
   "execution_count": 1,
   "metadata": {
    "collapsed": false
   },
   "outputs": [
    {
     "name": "stderr",
     "output_type": "stream",
     "text": [
      "/opt/conda_envs/analysis/lib/python3.5/site-packages/IPython/html.py:14: ShimWarning: The `IPython.html` package has been deprecated. You should import from `notebook` instead. `IPython.html.widgets` has moved to `ipywidgets`.\n",
      "  \"`IPython.html.widgets` has moved to `ipywidgets`.\", ShimWarning)\n"
     ]
    }
   ],
   "source": [
    "from xrfGui_v0 import Ui_MainWindow\n",
    "from PyQt4 import QtCore, QtGui\n",
    "import matplotlib.pyplot as plt\n",
    "import numpy as np\n",
    "from MplCanvas import MplCanvas, brush_to_color_tuple\n",
    "import matplotlib.image as mpimg\n",
    "import sys\n",
    "import functions as func\n",
    "from pyxrf.api import (make_hdf)\n",
    "import os\n",
    "from matplotlib import interactive"
   ]
  },
  {
   "cell_type": "code",
   "execution_count": null,
   "metadata": {
    "collapsed": false
   },
   "outputs": [],
   "source": [
    "class ExampleApp(QtGui.QMainWindow, Ui_MainWindow):\n",
    "    def __init__(self, parent=None):\n",
    "        super(ExampleApp, self).__init__(parent)\n",
    "        self.setupUi(self)\n",
    "    \n",
    "        \"\"\"\n",
    "        Attributes\n",
    "        ----------\n",
    "        wd: str\n",
    "            Working Directory where all saved files go. Initialized to current directory\n",
    "            \n",
    "        h5_file: str\n",
    "            path to h5 file chosen for pixel fitting\n",
    "            \n",
    "        json: str\n",
    "            path to json file for pixel fitting\n",
    "            \n",
    "        imgList: list of 2D numpy arrays of various shape\n",
    "            Holds raw image data selected from GUI\n",
    "            \n",
    "        canvas: MplCanvas\n",
    "            Widget that displays image from imgList\n",
    "        \"\"\"\n",
    "        \n",
    "        #Initialize Variables\n",
    "        self.wd = os.getcwd()\n",
    "        self.h5_file = \"\"\n",
    "        self.json = \"\"\n",
    "        self.imList = []\n",
    "        self.imStack = []\n",
    "        self.horizontalSlider.setMaximum(len(self.imList))\n",
    "        self.horizontalSlider.setMinimum(0)\n",
    "        self.lineEdit_9.setText(str(0)+\"/\"+str(0))\n",
    "        self.ref_img = np.array([])\n",
    "        self.norm_img = np.array([])\n",
    "        \n",
    "        \n",
    "        #Setup Dock Widgets as Tabs (can't be done in qt designer)\n",
    "        self.tabifyDockWidget(self.dockWidget_4, self.dockWidget)\n",
    "        \n",
    "        #Create blank Images\n",
    "        tmp = mpimg.imread('numpy.png')\n",
    "        self.canvas = MplCanvas()\n",
    "        self.canvas2 = MplCanvas()\n",
    "        self.image = self.canvas.axes.imshow(tmp)\n",
    "        self.image2 = self.canvas2.axes.imshow(tmp)\n",
    "        self.verticalLayout_4.insertWidget(0, self.canvas)\n",
    "        self.verticalLayout_6.insertWidget(0, self.canvas2)\n",
    "        \n",
    "        \n",
    "        #Tab 1\n",
    "        self.pushButton.clicked.connect(lambda: func.choose_wd(self))\n",
    "        self.pushButton_2.clicked.connect(lambda: func.create_h5(self))    \n",
    "        self.pushButton_3.clicked.connect(lambda: func.create_h5_from_file(self))\n",
    "        self.pushButton_4.clicked.connect(lambda: func.choose_json(self))\n",
    "        self.pushButton_5.clicked.connect(lambda: func.fit_h5(self))\n",
    "        \n",
    "        #Tab 2\n",
    "        self.pushButton_6.clicked.connect(lambda: func.choose_im(self))\n",
    "        self.pushButton_9.clicked.connect(lambda: func.plot_crnt_im(self))\n",
    "        self.pushButton_8.clicked.connect(lambda: func.choose_norm(self))\n",
    "        self.pushButton_13.clicked.connect(lambda: func.choose_ref(self))\n",
    "        self.pushButton_14.clicked.connect(lambda: func.plot_ref(self, self.ref_img))\n",
    "        self.pushButton_7.clicked.connect(lambda: func.choose_img_dir(self))\n",
    "        self.pushButton_11.clicked.connect(lambda: func.plot_imgs(self))\n",
    "        #self.pushButtong_15.clicked.connect(lambda: func.align_img)\n",
    "        \n",
    "        \n",
    "        #Primary Dock Widget\n",
    "        self.horizontalSlider.valueChanged.connect(lambda: func.slider_change(self))\n",
    "        #Image information\n",
    "        #See functions.py for how the labels are taken care of with Image class\n",
    "        \n",
    "        #Image Augmentation\n",
    "        self.checkBox.clicked.connect(lambda: func.align_check(self))\n",
    "        self.checkBox_2.clicked.connect(lambda: func.normalize_check(self))\n",
    "    \n",
    "    \n",
    "        "
   ]
  },
  {
   "cell_type": "code",
   "execution_count": null,
   "metadata": {
    "collapsed": false,
    "scrolled": false
   },
   "outputs": [
    {
     "name": "stderr",
     "output_type": "stream",
     "text": [
      "Traceback (most recent call last):\n",
      "  File \"/opt/conda_envs/analysis/lib/python3.5/site-packages/matplotlib/backends/backend_qt5agg.py\", line 180, in __draw_idle_agg\n",
      "    FigureCanvasAgg.draw(self)\n",
      "  File \"/opt/conda_envs/analysis/lib/python3.5/site-packages/matplotlib/backends/backend_agg.py\", line 474, in draw\n",
      "    self.figure.draw(self.renderer)\n",
      "  File \"/opt/conda_envs/analysis/lib/python3.5/site-packages/matplotlib/artist.py\", line 62, in draw_wrapper\n",
      "    draw(artist, renderer, *args, **kwargs)\n",
      "  File \"/opt/conda_envs/analysis/lib/python3.5/site-packages/matplotlib/figure.py\", line 1159, in draw\n",
      "    func(*args)\n",
      "  File \"/opt/conda_envs/analysis/lib/python3.5/site-packages/matplotlib/artist.py\", line 62, in draw_wrapper\n",
      "    draw(artist, renderer, *args, **kwargs)\n",
      "  File \"/opt/conda_envs/analysis/lib/python3.5/site-packages/matplotlib/axes/_base.py\", line 2218, in draw\n",
      "    self.apply_aspect()\n",
      "  File \"/opt/conda_envs/analysis/lib/python3.5/site-packages/matplotlib/axes/_base.py\", line 1354, in apply_aspect\n",
      "    pb1 = pb.shrunk_to_aspect(box_aspect, pb, fig_aspect)\n",
      "  File \"/opt/conda_envs/analysis/lib/python3.5/site-packages/matplotlib/transforms.py\", line 600, in shrunk_to_aspect\n",
      "    raise ValueError(\"'box_aspect' and 'fig_aspect' must be positive\")\n",
      "ValueError: 'box_aspect' and 'fig_aspect' must be positive\n",
      "Traceback (most recent call last):\n",
      "  File \"/opt/conda_envs/analysis/lib/python3.5/site-packages/matplotlib/backends/backend_qt5agg.py\", line 180, in __draw_idle_agg\n",
      "    FigureCanvasAgg.draw(self)\n",
      "  File \"/opt/conda_envs/analysis/lib/python3.5/site-packages/matplotlib/backends/backend_agg.py\", line 474, in draw\n",
      "    self.figure.draw(self.renderer)\n",
      "  File \"/opt/conda_envs/analysis/lib/python3.5/site-packages/matplotlib/artist.py\", line 62, in draw_wrapper\n",
      "    draw(artist, renderer, *args, **kwargs)\n",
      "  File \"/opt/conda_envs/analysis/lib/python3.5/site-packages/matplotlib/figure.py\", line 1159, in draw\n",
      "    func(*args)\n",
      "  File \"/opt/conda_envs/analysis/lib/python3.5/site-packages/matplotlib/artist.py\", line 62, in draw_wrapper\n",
      "    draw(artist, renderer, *args, **kwargs)\n",
      "  File \"/opt/conda_envs/analysis/lib/python3.5/site-packages/matplotlib/axes/_base.py\", line 2218, in draw\n",
      "    self.apply_aspect()\n",
      "  File \"/opt/conda_envs/analysis/lib/python3.5/site-packages/matplotlib/axes/_base.py\", line 1354, in apply_aspect\n",
      "    pb1 = pb.shrunk_to_aspect(box_aspect, pb, fig_aspect)\n",
      "  File \"/opt/conda_envs/analysis/lib/python3.5/site-packages/matplotlib/transforms.py\", line 600, in shrunk_to_aspect\n",
      "    raise ValueError(\"'box_aspect' and 'fig_aspect' must be positive\")\n",
      "ValueError: 'box_aspect' and 'fig_aspect' must be positive\n",
      "/home/dtropf/xrf-gui/align_class.py:115: VisibleDeprecationWarning: using a non-integer number instead of an integer will result in an error in the future\n",
      "  CC[(m-npy.fix(m/2)):(m+1+npy.fix((m-1)/2)),(n-npy.fix(n/2)):(n+1+npy.fix((n-1)/2))] = (sf.fftshift(buf1ft)*npy.conj(sf.fftshift(buf2ft)))[:,:]\n",
      "/home/dtropf/xrf-gui/align_class.py:124: VisibleDeprecationWarning: using a non-integer number instead of an integer will result in an error in the future\n",
      "  CCmax = CC[rloc,cloc]\n",
      "/home/dtropf/xrf-gui/align_class.py:254: VisibleDeprecationWarning: using a non-integer number instead of an integer will result in an error in the future\n",
      "  b = npy.zeros([1,noc])\n",
      "/home/dtropf/xrf-gui/align_class.py:260: VisibleDeprecationWarning: using a non-integer number instead of an integer will result in an error in the future\n",
      "  a = npy.zeros([nor,1])\n",
      "/home/dtropf/xrf-gui/align_class.py:162: VisibleDeprecationWarning: using a non-integer number instead of an integer will result in an error in the future\n",
      "  CCmax = CC[rloc,cloc]\n"
     ]
    },
    {
     "name": "stdout",
     "output_type": "stream",
     "text": [
      "x, y shift: 2.56 -3.21\n"
     ]
    },
    {
     "ename": "TypeError",
     "evalue": "Image data can not convert to float",
     "output_type": "error",
     "traceback": [
      "\u001b[0;31m---------------------------------------------------------------------------\u001b[0m",
      "\u001b[0;31mTypeError\u001b[0m                                 Traceback (most recent call last)",
      "\u001b[0;32m<ipython-input-2-f4134b568942>\u001b[0m in \u001b[0;36m<lambda>\u001b[0;34m()\u001b[0m\n\u001b[1;32m     74\u001b[0m         \u001b[0;31m#Image Augmentation\u001b[0m\u001b[0;34m\u001b[0m\u001b[0;34m\u001b[0m\u001b[0m\n\u001b[1;32m     75\u001b[0m         \u001b[0mself\u001b[0m\u001b[0;34m.\u001b[0m\u001b[0mcheckBox\u001b[0m\u001b[0;34m.\u001b[0m\u001b[0mclicked\u001b[0m\u001b[0;34m.\u001b[0m\u001b[0mconnect\u001b[0m\u001b[0;34m(\u001b[0m\u001b[0;32mlambda\u001b[0m\u001b[0;34m:\u001b[0m \u001b[0mfunc\u001b[0m\u001b[0;34m.\u001b[0m\u001b[0malign_check\u001b[0m\u001b[0;34m(\u001b[0m\u001b[0mself\u001b[0m\u001b[0;34m)\u001b[0m\u001b[0;34m)\u001b[0m\u001b[0;34m\u001b[0m\u001b[0m\n\u001b[0;32m---> 76\u001b[0;31m         \u001b[0mself\u001b[0m\u001b[0;34m.\u001b[0m\u001b[0mcheckBox_2\u001b[0m\u001b[0;34m.\u001b[0m\u001b[0mclicked\u001b[0m\u001b[0;34m.\u001b[0m\u001b[0mconnect\u001b[0m\u001b[0;34m(\u001b[0m\u001b[0;32mlambda\u001b[0m\u001b[0;34m:\u001b[0m \u001b[0mfunc\u001b[0m\u001b[0;34m.\u001b[0m\u001b[0mnormalize_check\u001b[0m\u001b[0;34m(\u001b[0m\u001b[0mself\u001b[0m\u001b[0;34m)\u001b[0m\u001b[0;34m)\u001b[0m\u001b[0;34m\u001b[0m\u001b[0m\n\u001b[0m\u001b[1;32m     77\u001b[0m \u001b[0;34m\u001b[0m\u001b[0m\n\u001b[1;32m     78\u001b[0m \u001b[0;34m\u001b[0m\u001b[0m\n",
      "\u001b[0;32m/home/dtropf/xrf-gui/functions.py\u001b[0m in \u001b[0;36mnormalize_check\u001b[0;34m(obj)\u001b[0m\n\u001b[1;32m    238\u001b[0m     \u001b[0;32melse\u001b[0m\u001b[0;34m:\u001b[0m\u001b[0;34m\u001b[0m\u001b[0m\n\u001b[1;32m    239\u001b[0m     \u001b[0;31m#Unnormalize Image\u001b[0m\u001b[0;34m\u001b[0m\u001b[0;34m\u001b[0m\u001b[0m\n\u001b[0;32m--> 240\u001b[0;31m         \u001b[0munNormalize\u001b[0m\u001b[0;34m(\u001b[0m\u001b[0mobj\u001b[0m\u001b[0;34m)\u001b[0m\u001b[0;34m\u001b[0m\u001b[0m\n\u001b[0m\u001b[1;32m    241\u001b[0m \u001b[0;34m\u001b[0m\u001b[0m\n\u001b[1;32m    242\u001b[0m \u001b[0;32mdef\u001b[0m \u001b[0malign\u001b[0m\u001b[0;34m(\u001b[0m\u001b[0mref_array\u001b[0m\u001b[0;34m,\u001b[0m \u001b[0malign_array\u001b[0m\u001b[0;34m)\u001b[0m\u001b[0;34m:\u001b[0m\u001b[0;34m\u001b[0m\u001b[0m\n",
      "\u001b[0;32m/home/dtropf/xrf-gui/functions.py\u001b[0m in \u001b[0;36munNormalize\u001b[0;34m(obj)\u001b[0m\n\u001b[1;32m    225\u001b[0m         \u001b[0mimg\u001b[0m\u001b[0;34m.\u001b[0m\u001b[0mimg_array2\u001b[0m \u001b[0;34m=\u001b[0m \u001b[0mnp\u001b[0m\u001b[0;34m.\u001b[0m\u001b[0mempty\u001b[0m\u001b[0;34m(\u001b[0m\u001b[0mshape\u001b[0m\u001b[0;34m=\u001b[0m\u001b[0;34m(\u001b[0m\u001b[0;36m0\u001b[0m\u001b[0;34m,\u001b[0m \u001b[0;36m0\u001b[0m\u001b[0;34m)\u001b[0m\u001b[0;34m)\u001b[0m\u001b[0;34m\u001b[0m\u001b[0m\n\u001b[1;32m    226\u001b[0m     \u001b[0mimg\u001b[0m\u001b[0;34m.\u001b[0m\u001b[0mnorm_check\u001b[0m \u001b[0;34m=\u001b[0m \u001b[0;32mFalse\u001b[0m\u001b[0;34m\u001b[0m\u001b[0m\n\u001b[0;32m--> 227\u001b[0;31m     \u001b[0mplot_im\u001b[0m\u001b[0;34m(\u001b[0m\u001b[0mobj\u001b[0m\u001b[0;34m,\u001b[0m \u001b[0mimg\u001b[0m\u001b[0;34m)\u001b[0m\u001b[0;34m\u001b[0m\u001b[0m\n\u001b[0m\u001b[1;32m    228\u001b[0m \u001b[0;34m\u001b[0m\u001b[0m\n\u001b[1;32m    229\u001b[0m \u001b[0;32mdef\u001b[0m \u001b[0mnormalize_check\u001b[0m\u001b[0;34m(\u001b[0m\u001b[0mobj\u001b[0m\u001b[0;34m)\u001b[0m\u001b[0;34m:\u001b[0m\u001b[0;34m\u001b[0m\u001b[0m\n",
      "\u001b[0;32m/home/dtropf/xrf-gui/functions.py\u001b[0m in \u001b[0;36mplot_im\u001b[0;34m(obj, img)\u001b[0m\n\u001b[1;32m    147\u001b[0m     \u001b[0mobj\u001b[0m\u001b[0;34m.\u001b[0m\u001b[0mlabel\u001b[0m\u001b[0;34m.\u001b[0m\u001b[0msetText\u001b[0m\u001b[0;34m(\u001b[0m\u001b[0mimg\u001b[0m\u001b[0;34m.\u001b[0m\u001b[0mtitle\u001b[0m\u001b[0;34m)\u001b[0m\u001b[0;34m\u001b[0m\u001b[0m\n\u001b[1;32m    148\u001b[0m     \u001b[0mobj\u001b[0m\u001b[0;34m.\u001b[0m\u001b[0mlabel_2\u001b[0m\u001b[0;34m.\u001b[0m\u001b[0msetText\u001b[0m\u001b[0;34m(\u001b[0m\u001b[0mimg\u001b[0m\u001b[0;34m.\u001b[0m\u001b[0mf\u001b[0m\u001b[0;34m)\u001b[0m\u001b[0;34m\u001b[0m\u001b[0m\n\u001b[0;32m--> 149\u001b[0;31m     \u001b[0mobj\u001b[0m\u001b[0;34m.\u001b[0m\u001b[0mcanvas\u001b[0m\u001b[0;34m.\u001b[0m\u001b[0maxes\u001b[0m\u001b[0;34m.\u001b[0m\u001b[0mimshow\u001b[0m\u001b[0;34m(\u001b[0m\u001b[0marray\u001b[0m\u001b[0;34m)\u001b[0m\u001b[0;34m\u001b[0m\u001b[0m\n\u001b[0m\u001b[1;32m    150\u001b[0m     \u001b[0mobj\u001b[0m\u001b[0;34m.\u001b[0m\u001b[0mcanvas\u001b[0m\u001b[0;34m.\u001b[0m\u001b[0mfig\u001b[0m\u001b[0;34m.\u001b[0m\u001b[0mcanvas\u001b[0m\u001b[0;34m.\u001b[0m\u001b[0mdraw\u001b[0m\u001b[0;34m(\u001b[0m\u001b[0;34m)\u001b[0m\u001b[0;34m\u001b[0m\u001b[0m\n\u001b[1;32m    151\u001b[0m \u001b[0;34m\u001b[0m\u001b[0m\n",
      "\u001b[0;32m/opt/conda_envs/analysis/lib/python3.5/site-packages/matplotlib/__init__.py\u001b[0m in \u001b[0;36minner\u001b[0;34m(ax, *args, **kwargs)\u001b[0m\n\u001b[1;32m   1817\u001b[0m                     warnings.warn(msg % (label_namer, func.__name__),\n\u001b[1;32m   1818\u001b[0m                                   RuntimeWarning, stacklevel=2)\n\u001b[0;32m-> 1819\u001b[0;31m             \u001b[0;32mreturn\u001b[0m \u001b[0mfunc\u001b[0m\u001b[0;34m(\u001b[0m\u001b[0max\u001b[0m\u001b[0;34m,\u001b[0m \u001b[0;34m*\u001b[0m\u001b[0margs\u001b[0m\u001b[0;34m,\u001b[0m \u001b[0;34m**\u001b[0m\u001b[0mkwargs\u001b[0m\u001b[0;34m)\u001b[0m\u001b[0;34m\u001b[0m\u001b[0m\n\u001b[0m\u001b[1;32m   1820\u001b[0m         \u001b[0mpre_doc\u001b[0m \u001b[0;34m=\u001b[0m \u001b[0minner\u001b[0m\u001b[0;34m.\u001b[0m\u001b[0m__doc__\u001b[0m\u001b[0;34m\u001b[0m\u001b[0m\n\u001b[1;32m   1821\u001b[0m         \u001b[0;32mif\u001b[0m \u001b[0mpre_doc\u001b[0m \u001b[0;32mis\u001b[0m \u001b[0;32mNone\u001b[0m\u001b[0;34m:\u001b[0m\u001b[0;34m\u001b[0m\u001b[0m\n",
      "\u001b[0;32m/opt/conda_envs/analysis/lib/python3.5/site-packages/matplotlib/axes/_axes.py\u001b[0m in \u001b[0;36mimshow\u001b[0;34m(self, X, cmap, norm, aspect, interpolation, alpha, vmin, vmax, origin, extent, shape, filternorm, filterrad, imlim, resample, url, **kwargs)\u001b[0m\n\u001b[1;32m   4920\u001b[0m                               resample=resample, **kwargs)\n\u001b[1;32m   4921\u001b[0m \u001b[0;34m\u001b[0m\u001b[0m\n\u001b[0;32m-> 4922\u001b[0;31m         \u001b[0mim\u001b[0m\u001b[0;34m.\u001b[0m\u001b[0mset_data\u001b[0m\u001b[0;34m(\u001b[0m\u001b[0mX\u001b[0m\u001b[0;34m)\u001b[0m\u001b[0;34m\u001b[0m\u001b[0m\n\u001b[0m\u001b[1;32m   4923\u001b[0m         \u001b[0mim\u001b[0m\u001b[0;34m.\u001b[0m\u001b[0mset_alpha\u001b[0m\u001b[0;34m(\u001b[0m\u001b[0malpha\u001b[0m\u001b[0;34m)\u001b[0m\u001b[0;34m\u001b[0m\u001b[0m\n\u001b[1;32m   4924\u001b[0m         \u001b[0;32mif\u001b[0m \u001b[0mim\u001b[0m\u001b[0;34m.\u001b[0m\u001b[0mget_clip_path\u001b[0m\u001b[0;34m(\u001b[0m\u001b[0;34m)\u001b[0m \u001b[0;32mis\u001b[0m \u001b[0;32mNone\u001b[0m\u001b[0;34m:\u001b[0m\u001b[0;34m\u001b[0m\u001b[0m\n",
      "\u001b[0;32m/opt/conda_envs/analysis/lib/python3.5/site-packages/matplotlib/image.py\u001b[0m in \u001b[0;36mset_data\u001b[0;34m(self, A)\u001b[0m\n\u001b[1;32m    447\u001b[0m         if (self._A.dtype != np.uint8 and\n\u001b[1;32m    448\u001b[0m                 not np.can_cast(self._A.dtype, np.float)):\n\u001b[0;32m--> 449\u001b[0;31m             \u001b[0;32mraise\u001b[0m \u001b[0mTypeError\u001b[0m\u001b[0;34m(\u001b[0m\u001b[0;34m\"Image data can not convert to float\"\u001b[0m\u001b[0;34m)\u001b[0m\u001b[0;34m\u001b[0m\u001b[0m\n\u001b[0m\u001b[1;32m    450\u001b[0m \u001b[0;34m\u001b[0m\u001b[0m\n\u001b[1;32m    451\u001b[0m         if (self._A.ndim not in (2, 3) or\n",
      "\u001b[0;31mTypeError\u001b[0m: Image data can not convert to float"
     ]
    }
   ],
   "source": [
    "def main():\n",
    "    app = QtGui.QApplication(sys.argv)\n",
    "    form = ExampleApp()\n",
    "    form.show()\n",
    "    app.exec_()\n",
    "    \n",
    "if __name__ == '__main__':\n",
    "    main()"
   ]
  },
  {
   "cell_type": "code",
   "execution_count": null,
   "metadata": {
    "collapsed": true
   },
   "outputs": [],
   "source": []
  },
  {
   "cell_type": "code",
   "execution_count": null,
   "metadata": {
    "collapsed": true
   },
   "outputs": [],
   "source": []
  }
 ],
 "metadata": {
  "anaconda-cloud": {},
  "kernelspec": {
   "display_name": "Python [conda env:analysis]",
   "language": "python",
   "name": "conda-env-analysis-py"
  },
  "language_info": {
   "codemirror_mode": {
    "name": "ipython",
    "version": 3
   },
   "file_extension": ".py",
   "mimetype": "text/x-python",
   "name": "python",
   "nbconvert_exporter": "python",
   "pygments_lexer": "ipython3",
   "version": "3.5.3"
  }
 },
 "nbformat": 4,
 "nbformat_minor": 1
}
